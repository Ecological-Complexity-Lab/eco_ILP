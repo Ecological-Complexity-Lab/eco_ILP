{
 "cells": [
  {
   "cell_type": "code",
   "execution_count": 1,
   "metadata": {},
   "outputs": [
    {
     "name": "stdout",
     "output_type": "stream",
     "text": [
      "Running on local URL:  http://127.0.0.1:7863\n",
      "\n",
      "To create a public link, set `share=True` in `launch()`.\n"
     ]
    },
    {
     "data": {
      "text/html": [
       "<div><iframe src=\"http://127.0.0.1:7863/\" width=\"100%\" height=\"500\" allow=\"autoplay; camera; microphone; clipboard-read; clipboard-write;\" frameborder=\"0\" allowfullscreen></iframe></div>"
      ],
      "text/plain": [
       "<IPython.core.display.HTML object>"
      ]
     },
     "metadata": {},
     "output_type": "display_data"
    },
    {
     "data": {
      "text/plain": []
     },
     "execution_count": 1,
     "metadata": {},
     "output_type": "execute_result"
    },
    {
     "name": "stderr",
     "output_type": "stream",
     "text": [
      "/gpfs0/shai/users/barryb/anaconda3/lib/python3.9/site-packages/networkx/algorithms/assortativity/mixing.py:207: RuntimeWarning: invalid value encountered in true_divide\n",
      "  a = a / a.sum()\n",
      "/gpfs0/shai/users/barryb/anaconda3/lib/python3.9/site-packages/networkx/algorithms/link_analysis/hits_alg.py:90: RuntimeWarning: invalid value encountered in true_divide\n",
      "  h /= h.sum()\n",
      "/gpfs0/shai/users/barryb/anaconda3/lib/python3.9/site-packages/networkx/algorithms/assortativity/mixing.py:207: RuntimeWarning: invalid value encountered in true_divide\n",
      "  a = a / a.sum()\n",
      "/gpfs0/shai/users/barryb/anaconda3/lib/python3.9/site-packages/networkx/algorithms/link_analysis/hits_alg.py:90: RuntimeWarning: invalid value encountered in true_divide\n",
      "  h /= h.sum()\n",
      "/gpfs0/shai/users/barryb/anaconda3/lib/python3.9/site-packages/gradio/components/dataframe.py:281: UserWarning: Cannot display Styler object in interactive mode. Will display as a regular pandas dataframe instead.\n",
      "  warnings.warn(\n"
     ]
    }
   ],
   "source": [
    "# Force reload modules each execution\n",
    "%load_ext autoreload\n",
    "%autoreload 2\n",
    "\n",
    "# Import necessary functions from user_tools.py\n",
    "from ecoILP import create_gradio_interface\n",
    "\n",
    "# Create Gradio components\n",
    "demo = create_gradio_interface()\n",
    "\n",
    "# Launch the Gradio interface\n",
    "demo.launch(server_port=7863, prevent_thread_lock=False)"
   ]
  }
 ],
 "metadata": {
  "kernelspec": {
   "display_name": "Python 3 (ipykernel)",
   "language": "python",
   "name": "python3"
  },
  "language_info": {
   "codemirror_mode": {
    "name": "ipython",
    "version": 3
   },
   "file_extension": ".py",
   "mimetype": "text/x-python",
   "name": "python",
   "nbconvert_exporter": "python",
   "pygments_lexer": "ipython3",
   "version": "3.9.16"
  }
 },
 "nbformat": 4,
 "nbformat_minor": 2
}
